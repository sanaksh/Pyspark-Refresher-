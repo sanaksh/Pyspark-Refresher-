{
  "nbformat": 4,
  "nbformat_minor": 0,
  "metadata": {
    "colab": {
      "provenance": [],
      "authorship_tag": "ABX9TyM+VJqUgyq3TAHfoPZzpdnF",
      "include_colab_link": true
    },
    "kernelspec": {
      "name": "python3",
      "display_name": "Python 3"
    },
    "language_info": {
      "name": "python"
    }
  },
  "cells": [
    {
      "cell_type": "markdown",
      "metadata": {
        "id": "view-in-github",
        "colab_type": "text"
      },
      "source": [
        "<a href=\"https://colab.research.google.com/github/sanaksh/Pyspark-Refresher-/blob/main/Pyspark_Refresher.ipynb\" target=\"_parent\"><img src=\"https://colab.research.google.com/assets/colab-badge.svg\" alt=\"Open In Colab\"/></a>"
      ]
    },
    {
      "cell_type": "code",
      "execution_count": 1,
      "metadata": {
        "colab": {
          "base_uri": "https://localhost:8080/"
        },
        "id": "7MWxOTVI5pR0",
        "outputId": "71146197-4406-42f1-e6f2-81ced1ad2775"
      },
      "outputs": [
        {
          "output_type": "stream",
          "name": "stdout",
          "text": [
            "Requirement already satisfied: pyspark in /usr/local/lib/python3.11/dist-packages (3.5.1)\n",
            "Requirement already satisfied: py4j==0.10.9.7 in /usr/local/lib/python3.11/dist-packages (from pyspark) (0.10.9.7)\n"
          ]
        }
      ],
      "source": [
        "pip install pyspark"
      ]
    },
    {
      "cell_type": "code",
      "source": [
        "from pyspark.sql import SparkSession\n",
        "spark = SparkSession.builder\\\n",
        ".appName(\"MyProcess\")\\\n",
        ".master(\"local[*]\")\\\n",
        ".getOrCreate()\n",
        ""
      ],
      "metadata": {
        "id": "geBMH_TM52Ap"
      },
      "execution_count": 3,
      "outputs": []
    },
    {
      "cell_type": "code",
      "source": [
        "data = map(lambda r: (r[0], r[1], float(r[2])),\n",
        "map(lambda x: x.split(\",\"),\n",
        "[\"Paris,Food,19.00\", \"Marseille,Clothing,12.00\",\n",
        "\"Paris,Food,8.00\", \"Paris,Clothing,15.00\",\n",
        "\"Marseille,Food,20.00\", \"Lyon,Book,10.00\"]))"
      ],
      "metadata": {
        "id": "LPnwTGfr6ynT"
      },
      "execution_count": 4,
      "outputs": []
    },
    {
      "cell_type": "code",
      "source": [
        "\n",
        "header = [\"city\", \"type\", \"price\"]"
      ],
      "metadata": {
        "id": "oWDXku5l60yD"
      },
      "execution_count": 5,
      "outputs": []
    },
    {
      "cell_type": "code",
      "source": [
        "df = spark.createDataFrame(data, header)\n",
        "df.show()\n"
      ],
      "metadata": {
        "colab": {
          "base_uri": "https://localhost:8080/"
        },
        "id": "GiVJVSoj645j",
        "outputId": "43ff148f-b91c-48d0-dc44-f2f467aaa4ae"
      },
      "execution_count": 6,
      "outputs": [
        {
          "output_type": "stream",
          "name": "stdout",
          "text": [
            "+---------+--------+-----+\n",
            "|     city|    type|price|\n",
            "+---------+--------+-----+\n",
            "|    Paris|    Food| 19.0|\n",
            "|Marseille|Clothing| 12.0|\n",
            "|    Paris|    Food|  8.0|\n",
            "|    Paris|Clothing| 15.0|\n",
            "|Marseille|    Food| 20.0|\n",
            "|     Lyon|    Book| 10.0|\n",
            "+---------+--------+-----+\n",
            "\n"
          ]
        }
      ]
    }
  ]
}